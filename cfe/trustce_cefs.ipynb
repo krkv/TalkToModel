{
 "cells": [
  {
   "cell_type": "markdown",
   "metadata": {},
   "source": [
    "## Setting Up and Importing Libraries\n",
    "In this step, we'll import the necessary libraries and modules. We'll also ensure the correct path is set to access our custom modules."
   ]
  },
  {
   "cell_type": "code",
   "execution_count": 2,
   "metadata": {
    "ExecuteTime": {
     "end_time": "2024-02-20T21:04:55.868271800Z",
     "start_time": "2024-02-20T21:04:55.795944200Z"
    }
   },
   "outputs": [],
   "source": [
    "# Import necessary libraries\n",
    "import os\n",
    "import json\n"
   ]
  },
  {
   "cell_type": "code",
   "execution_count": 3,
   "metadata": {
    "ExecuteTime": {
     "end_time": "2024-02-20T21:04:58.131837800Z",
     "start_time": "2024-02-20T21:04:58.114593700Z"
    }
   },
   "outputs": [
    {
     "name": "stdout",
     "output_type": "stream",
     "text": [
      "/home/rodion/TrustAI/TalkToModel-TrustAI\n"
     ]
    }
   ],
   "source": [
    "# Make sure that the current working directory is the parent directory of the project\n",
    "os.chdir('/home/rodion/TrustAI/TalkToModel-TrustAI')\n",
    "print(os.getcwd())"
   ]
  },
  {
   "cell_type": "code",
   "outputs": [
    {
     "name": "stdout",
     "output_type": "stream",
     "text": [
      "/bin/bash: warning: setlocale: LC_ALL: cannot change locale (en_US.UTF-8)\r\n",
      "# conda environments:\r\n",
      "#\r\n",
      "base                     /home/rodion/miniconda3\r\n",
      "gpgomenv                 /home/rodion/miniconda3/envs/gpgomenv\r\n",
      "trustce               *  /home/rodion/miniconda3/envs/trustce\r\n",
      "ttm                      /home/rodion/miniconda3/envs/ttm\r\n",
      "\r\n"
     ]
    }
   ],
   "source": [
    "! conda env list"
   ],
   "metadata": {
    "collapsed": false,
    "ExecuteTime": {
     "end_time": "2024-02-20T21:05:22.697487900Z",
     "start_time": "2024-02-20T21:05:21.713168500Z"
    }
   },
   "execution_count": 4
  },
  {
   "cell_type": "code",
   "execution_count": 5,
   "metadata": {
    "ExecuteTime": {
     "end_time": "2024-02-20T21:05:41.523212400Z",
     "start_time": "2024-02-20T21:05:39.828287100Z"
    }
   },
   "outputs": [],
   "source": [
    "from trustce.cfsearch import CFsearch\n",
    "from trustce.dataset import Dataset\n",
    "from trustce.cemodels.sklearn_model import SklearnModel\n",
    "from trustce.ceinstance.instance_sampler import CEInstanceSampler\n",
    "from trustce.config import Config\n",
    "from trustce.transformer import Transformer\n",
    "from trustce.ceinstance.instance_factory import InstanceFactory"
   ]
  },
  {
   "cell_type": "markdown",
   "metadata": {},
   "source": [
    "## Loading Configuration\n",
    "Here, we'll load our configuration files which dictate various parameters for our counterfactual search. It includes dataset details, feature management, and other related configurations."
   ]
  },
  {
   "cell_type": "code",
   "execution_count": 6,
   "metadata": {
    "ExecuteTime": {
     "end_time": "2024-02-20T21:07:00.368748400Z",
     "start_time": "2024-02-20T21:07:00.288928Z"
    }
   },
   "outputs": [
    {
     "name": "stdout",
     "output_type": "stream",
     "text": [
      "Configuration Loaded:\n",
      "<trustce.config.Config object at 0x7fe455586570>\n"
     ]
    }
   ],
   "source": [
    "# Load configuration\n",
    "config_file_path = \"cfe/conf_bc.yaml\"\n",
    "config = Config(config_file_path)\n",
    "\n",
    "with open(\"cfe/constraints_conf_bc.json\", 'r') as file:\n",
    "    constraints = json.load(file)\n",
    "\n",
    "print(\"Configuration Loaded:\")\n",
    "print(config)"
   ]
  },
  {
   "cell_type": "markdown",
   "metadata": {},
   "source": [
    "## Preparing Dataset and Model\n",
    "In this section, we initialize our dataset, model, and the required transformers. We'll also define a sample instance for which we wish to find the counterfactuals."
   ]
  },
  {
   "cell_type": "code",
   "execution_count": 7,
   "metadata": {
    "ExecuteTime": {
     "end_time": "2024-02-20T21:07:39.884616700Z",
     "start_time": "2024-02-20T21:07:39.009643Z"
    }
   },
   "outputs": [
    {
     "name": "stdout",
     "output_type": "stream",
     "text": [
      "Features verified\n",
      "Continious features: ['radius', 'texture', 'perimeter', 'area', 'smoothness', 'compactness', 'concavity', 'concave_points', 'symmetry', 'fractal_dimension']\n",
      "Categorical features: []\n",
      "Dataset preprocessed\n",
      "Feature: fractal_dimension\n",
      "Range: [-1.8471166348711128, 5.081944782090663]\n",
      "Feature: concavity\n",
      "Range: [-1.129050066092012, 4.306684366839897]\n",
      "Feature: symmetry\n",
      "Range: [-2.6892934559130643, 4.460658772550865]\n",
      "Feature: compactness\n",
      "Range: [-1.663070884363049, 4.098612101932611]\n",
      "Feature: radius\n",
      "Range: [-2.020664657895016, 3.9271765688611073]\n",
      "Feature: perimeter\n",
      "Range: [-1.9786942699538923, 3.9429969951971064]\n",
      "Feature: concave_points\n",
      "Range: [-1.2659948385422117, 3.9170965902340282]\n",
      "Feature: area\n",
      "Range: [-1.428632714617807, 5.112255531344153]\n",
      "Feature: texture\n",
      "Range: [-2.3099404763139924, 3.535857910129814]\n",
      "Feature: smoothness\n",
      "Range: [-3.15671998869921, 3.488590578235572]\n"
     ]
    },
    {
     "name": "stderr",
     "output_type": "stream",
     "text": [
      "/home/rodion/miniconda3/envs/trustce/lib/python3.12/site-packages/sklearn/base.py:348: InconsistentVersionWarning: Trying to unpickle estimator StandardScaler from version 1.3.0 when using version 1.3.1. This might lead to breaking code or invalid results. Use at your own risk. For more info please refer to:\n",
      "https://scikit-learn.org/stable/model_persistence.html#security-maintainability-limitations\n",
      "  warnings.warn(\n",
      "/home/rodion/miniconda3/envs/trustce/lib/python3.12/site-packages/sklearn/base.py:348: InconsistentVersionWarning: Trying to unpickle estimator DecisionTreeClassifier from version 1.3.0 when using version 1.3.1. This might lead to breaking code or invalid results. Use at your own risk. For more info please refer to:\n",
      "https://scikit-learn.org/stable/model_persistence.html#security-maintainability-limitations\n",
      "  warnings.warn(\n",
      "/home/rodion/miniconda3/envs/trustce/lib/python3.12/site-packages/sklearn/base.py:348: InconsistentVersionWarning: Trying to unpickle estimator RandomForestClassifier from version 1.3.0 when using version 1.3.1. This might lead to breaking code or invalid results. Use at your own risk. For more info please refer to:\n",
      "https://scikit-learn.org/stable/model_persistence.html#security-maintainability-limitations\n",
      "  warnings.warn(\n",
      "/home/rodion/miniconda3/envs/trustce/lib/python3.12/site-packages/sklearn/base.py:348: InconsistentVersionWarning: Trying to unpickle estimator Pipeline from version 1.3.0 when using version 1.3.1. This might lead to breaking code or invalid results. Use at your own risk. For more info please refer to:\n",
      "https://scikit-learn.org/stable/model_persistence.html#security-maintainability-limitations\n",
      "  warnings.warn(\n"
     ]
    }
   ],
   "source": [
    "data = Dataset(config.get_config_value(\"dataset\"), \"y\")\n",
    "normalization_transformer = Transformer(data, config)\n",
    "instance_factory = InstanceFactory(data)\n",
    "sampler = CEInstanceSampler(config, normalization_transformer, instance_factory)\n",
    "model = SklearnModel(config.get_config_value(\"model\"))"
   ]
  },
  {
   "cell_type": "code",
   "execution_count": 8,
   "metadata": {
    "ExecuteTime": {
     "end_time": "2024-02-20T21:08:30.480328300Z",
     "start_time": "2024-02-20T21:08:30.458258600Z"
    }
   },
   "outputs": [],
   "source": [
    "# Load target instance \n",
    "import pandas as pd\n",
    "\n",
    "dataset = pd.read_csv(config.get_config_value(\"dataset\")[\"path\"], index_col=0)\n",
    "target_instance_data = dataset.iloc[0]\n",
    "\n",
    "target_instance = instance_factory.create_instance(target_instance_data)"
   ]
  },
  {
   "cell_type": "code",
   "outputs": [
    {
     "data": {
      "text/plain": "{'radius': 11.85,\n 'texture': 17.46,\n 'perimeter': 75.54,\n 'area': 432.7,\n 'smoothness': 0.08372,\n 'compactness': 0.05642,\n 'concavity': 0.02688,\n 'concave_points': 0.0228,\n 'symmetry': 0.1875,\n 'fractal_dimension': 0.05715}"
     },
     "execution_count": 9,
     "metadata": {},
     "output_type": "execute_result"
    }
   ],
   "source": [
    "target_instance.get_values_dict()"
   ],
   "metadata": {
    "collapsed": false,
    "ExecuteTime": {
     "end_time": "2024-02-20T21:08:33.233743800Z",
     "start_time": "2024-02-20T21:08:33.167701700Z"
    }
   },
   "execution_count": 9
  },
  {
   "cell_type": "markdown",
   "metadata": {},
   "source": [
    "## Finding Counterfactuals\n",
    "With everything set up, we'll now search for counterfactuals for our sample instance using the CFsearch object."
   ]
  },
  {
   "cell_type": "code",
   "execution_count": 10,
   "metadata": {
    "ExecuteTime": {
     "end_time": "2024-02-20T21:08:40.166248100Z",
     "start_time": "2024-02-20T21:08:40.149604200Z"
    }
   },
   "outputs": [],
   "source": [
    "# Create a CFsearch object\n",
    "config_for_cfsearch = config.get_config_value(\"cfsearch\")\n",
    "search = CFsearch(normalization_transformer, model, sampler, config,\n",
    "                  optimizer_name=config_for_cfsearch[\"optimizer\"],\n",
    "                  distance_continuous=config_for_cfsearch[\"continuous_distance\"],\n",
    "                  distance_categorical=config_for_cfsearch[\"categorical_distance\"],\n",
    "                  loss_type=config_for_cfsearch[\"loss_type\"],\n",
    "                  coherence=config_for_cfsearch[\"coherence\"],\n",
    "                  objective_function_weights=config_for_cfsearch[\"objective_function_weights\"])"
   ]
  },
  {
   "cell_type": "code",
   "execution_count": 11,
   "metadata": {
    "ExecuteTime": {
     "end_time": "2024-02-20T21:10:19.383660500Z",
     "start_time": "2024-02-20T21:08:42.476899400Z"
    }
   },
   "outputs": [
    {
     "name": "stdout",
     "output_type": "stream",
     "text": [
      "Not all conterfactuals are valid, but the closest instances reported\n"
     ]
    }
   ],
   "source": [
    "counterfactuals = search.find_counterfactuals(target_instance, number_cf=1, desired_class=\"opposite\", maxiterations=50)"
   ]
  },
  {
   "cell_type": "markdown",
   "metadata": {},
   "source": []
  },
  {
   "cell_type": "markdown",
   "metadata": {},
   "source": [
    "## Evaluation and Visualization\n",
    "Once the counterfactuals are generated, it's crucial to evaluate and visualize them. This helps in understanding how the counterfactuals differ from the original instance and assessing their quality."
   ]
  },
  {
   "cell_type": "code",
   "execution_count": 12,
   "metadata": {
    "ExecuteTime": {
     "end_time": "2024-02-20T21:11:27.280934600Z",
     "start_time": "2024-02-20T21:11:27.125844300Z"
    }
   },
   "outputs": [
    {
     "name": "stdout",
     "output_type": "stream",
     "text": [
      "Feature radius changed its value from -0.6500347684977155 to -0.9854652716858642\n",
      "probability_sign: [0. 0.], type: <class 'numpy.ndarray'>\n",
      "required_label: 0, type: <class 'numpy.int64'>\n",
      "Modified required_label: 0, type: <class 'numpy.int64'>\n",
      "Feature texture changed its value from -0.4300675512127683 to -1.7731666069237133\n",
      "probability_sign: [0. 0.], type: <class 'numpy.ndarray'>\n",
      "required_label: 0, type: <class 'numpy.int64'>\n",
      "Modified required_label: 0, type: <class 'numpy.int64'>\n",
      "Feature perimeter changed its value from -0.6794495897759899 to -1.8102524812112857\n",
      "probability_sign: [0. 0.], type: <class 'numpy.ndarray'>\n",
      "required_label: 0, type: <class 'numpy.int64'>\n",
      "Modified required_label: 0, type: <class 'numpy.int64'>\n",
      "Feature area changed its value from -0.6262467630877121 to -0.025767735167848933\n",
      "probability_sign: [0. 0.], type: <class 'numpy.ndarray'>\n",
      "required_label: 0, type: <class 'numpy.int64'>\n",
      "Modified required_label: 0, type: <class 'numpy.int64'>\n",
      "Feature smoothness changed its value from -0.9127457785764513 to -0.47546194166232686\n",
      "probability_sign: [0. 0.], type: <class 'numpy.ndarray'>\n",
      "required_label: 0, type: <class 'numpy.int64'>\n",
      "Modified required_label: 0, type: <class 'numpy.int64'>\n",
      "Feature compactness changed its value from -0.9322553997647639 to -1.6289294517706883\n",
      "probability_sign: [0. 0.], type: <class 'numpy.ndarray'>\n",
      "required_label: 0, type: <class 'numpy.int64'>\n",
      "Modified required_label: 0, type: <class 'numpy.int64'>\n",
      "Feature concavity changed its value from -0.7867057794068909 to 1.8341844984672393\n",
      "probability_sign: [ 1. -1.], type: <class 'numpy.ndarray'>\n",
      "required_label: 0, type: <class 'numpy.int64'>\n",
      "Modified required_label: 0, type: <class 'numpy.int64'>\n",
      "Feature concave_points changed its value from -0.6786465056590195 to -0.13116733677101516\n",
      "probability_sign: [0. 0.], type: <class 'numpy.ndarray'>\n",
      "required_label: 0, type: <class 'numpy.int64'>\n",
      "Modified required_label: 0, type: <class 'numpy.int64'>\n",
      "Feature symmetry changed its value from 0.2537424361061792 to 0.3121304919410797\n",
      "probability_sign: [0. 0.], type: <class 'numpy.ndarray'>\n",
      "required_label: 0, type: <class 'numpy.int64'>\n",
      "Modified required_label: 0, type: <class 'numpy.int64'>\n",
      "Feature fractal_dimension changed its value from -0.7978337454870525 to -0.40984776803698514\n",
      "probability_sign: [0. 0.], type: <class 'numpy.ndarray'>\n",
      "required_label: 0, type: <class 'numpy.int64'>\n",
      "Modified required_label: 0, type: <class 'numpy.int64'>\n",
      "CF instance:  {'radius': -0.9854652716858642, 'texture': -1.7731666069237133, 'perimeter': -1.8102524812112857, 'area': -0.025767735167848933, 'smoothness': -0.47546194166232686, 'compactness': -1.6289294517706883, 'concavity': 1.8341844984672393, 'concave_points': -0.13116733677101516, 'symmetry': 0.3121304919410797, 'fractal_dimension': -0.40984776803698514}\n",
      "Distance continuous:  0.0006044153511003614\n",
      "Distance categorical:  0\n",
      "Sparsity continuous:  10\n",
      "Sparsity categorical:  0\n",
      "Validity:  False\n",
      "Coherence:  0.1  incoherent features are  []\n",
      "Query instance (original outcome : 1)\n"
     ]
    },
    {
     "data": {
      "text/plain": "   radius  texture  perimeter   area  smoothness  compactness  concavity  \\\n0   11.85    17.46      75.54  432.7     0.08372      0.05642    0.02688   \n\n   concave_points  symmetry  fractal_dimension  \n0          0.0228    0.1875            0.05715  ",
      "text/html": "<div>\n<style scoped>\n    .dataframe tbody tr th:only-of-type {\n        vertical-align: middle;\n    }\n\n    .dataframe tbody tr th {\n        vertical-align: top;\n    }\n\n    .dataframe thead th {\n        text-align: right;\n    }\n</style>\n<table border=\"1\" class=\"dataframe\">\n  <thead>\n    <tr style=\"text-align: right;\">\n      <th></th>\n      <th>radius</th>\n      <th>texture</th>\n      <th>perimeter</th>\n      <th>area</th>\n      <th>smoothness</th>\n      <th>compactness</th>\n      <th>concavity</th>\n      <th>concave_points</th>\n      <th>symmetry</th>\n      <th>fractal_dimension</th>\n    </tr>\n  </thead>\n  <tbody>\n    <tr>\n      <th>0</th>\n      <td>11.85</td>\n      <td>17.46</td>\n      <td>75.54</td>\n      <td>432.7</td>\n      <td>0.08372</td>\n      <td>0.05642</td>\n      <td>0.02688</td>\n      <td>0.0228</td>\n      <td>0.1875</td>\n      <td>0.05715</td>\n    </tr>\n  </tbody>\n</table>\n</div>"
     },
     "metadata": {},
     "output_type": "display_data"
    },
    {
     "name": "stdout",
     "output_type": "stream",
     "text": [
      "\n",
      "Counterfactual set (new outcome: [1])\n"
     ]
    },
    {
     "data": {
      "text/plain": "               radius             texture          perimeter  \\\n0  10.658422950165445  11.922914198735356  47.90625837239946   \n\n                area           smoothness          compactness  \\\n0  649.1276861319288  0.08977851637168165  0.02111039390909482   \n\n             concavity       concave_points            symmetry  \\\n0  0.23266561818983753  0.04405233758538468  0.1891169108108564   \n\n     fractal_dimension  \n0  0.05980859589066922  ",
      "text/html": "<div>\n<style scoped>\n    .dataframe tbody tr th:only-of-type {\n        vertical-align: middle;\n    }\n\n    .dataframe tbody tr th {\n        vertical-align: top;\n    }\n\n    .dataframe thead th {\n        text-align: right;\n    }\n</style>\n<table border=\"1\" class=\"dataframe\">\n  <thead>\n    <tr style=\"text-align: right;\">\n      <th></th>\n      <th>radius</th>\n      <th>texture</th>\n      <th>perimeter</th>\n      <th>area</th>\n      <th>smoothness</th>\n      <th>compactness</th>\n      <th>concavity</th>\n      <th>concave_points</th>\n      <th>symmetry</th>\n      <th>fractal_dimension</th>\n    </tr>\n  </thead>\n  <tbody>\n    <tr>\n      <th>0</th>\n      <td>10.658422950165445</td>\n      <td>11.922914198735356</td>\n      <td>47.90625837239946</td>\n      <td>649.1276861319288</td>\n      <td>0.08977851637168165</td>\n      <td>0.02111039390909482</td>\n      <td>0.23266561818983753</td>\n      <td>0.04405233758538468</td>\n      <td>0.1891169108108564</td>\n      <td>0.05980859589066922</td>\n    </tr>\n  </tbody>\n</table>\n</div>"
     },
     "metadata": {},
     "output_type": "display_data"
    },
    {
     "data": {
      "text/plain": "None"
     },
     "metadata": {},
     "output_type": "display_data"
    }
   ],
   "source": [
    "# Evaluate and visualize the counterfactuals\n",
    "search.evaluate_counterfactuals(target_instance, counterfactuals)\n",
    "\n",
    "# Display the counterfactuals and original instance in the notebook\n",
    "display_df = search.visualize_as_dataframe(target_instance, counterfactuals)\n",
    "display(display_df)"
   ]
  },
  {
   "cell_type": "markdown",
   "metadata": {},
   "source": [
    "## Storing the Results\n",
    "For reproducibility and further analysis, we'll store the counterfactuals and their evaluations in designated folders."
   ]
  },
  {
   "cell_type": "code",
   "execution_count": 16,
   "metadata": {
    "ExecuteTime": {
     "end_time": "2024-02-20T21:12:55.520142600Z",
     "start_time": "2024-02-20T21:12:55.429874800Z"
    }
   },
   "outputs": [
    {
     "name": "stdout",
     "output_type": "stream",
     "text": [
      "Store counterfactuals to  cfe/output/bc_first_test_0.json\n",
      "Store counterfactuals evaluation to  cfe/output/bc_first_test_eval_0.json\n"
     ]
    }
   ],
   "source": [
    "# Store results\n",
    "search.store_counterfactuals(config.get_config_value(\"output_folder\"), \"bc_first_test\")\n",
    "search.store_evaluations(config.get_config_value(\"output_folder\"), \"bc_first_test\")"
   ]
  },
  {
   "cell_type": "code",
   "execution_count": 13,
   "metadata": {
    "ExecuteTime": {
     "end_time": "2024-02-20T21:11:45.817240600Z",
     "start_time": "2024-02-20T21:11:45.723648600Z"
    }
   },
   "outputs": [
    {
     "data": {
      "text/plain": "{'radius': 10.658422950165445,\n 'texture': 11.922914198735356,\n 'perimeter': 47.90625837239946,\n 'area': 649.1276861319288,\n 'smoothness': 0.08977851637168165,\n 'compactness': 0.02111039390909482,\n 'concavity': 0.23266561818983753,\n 'concave_points': 0.04405233758538468,\n 'symmetry': 0.1891169108108564,\n 'fractal_dimension': 0.05980859589066922}"
     },
     "execution_count": 13,
     "metadata": {},
     "output_type": "execute_result"
    }
   ],
   "source": [
    "counterfactuals[0].get_values_dict()"
   ]
  },
  {
   "cell_type": "code",
   "outputs": [
    {
     "data": {
      "text/plain": "array([1])"
     },
     "execution_count": 14,
     "metadata": {},
     "output_type": "execute_result"
    }
   ],
   "source": [
    "model.predict(counterfactuals[0].to_numpy_array().reshape(1, -1))"
   ],
   "metadata": {
    "collapsed": false,
    "ExecuteTime": {
     "end_time": "2024-02-20T21:11:48.867325900Z",
     "start_time": "2024-02-20T21:11:48.833625500Z"
    }
   },
   "execution_count": 14
  },
  {
   "cell_type": "code",
   "outputs": [
    {
     "data": {
      "text/plain": "array([1])"
     },
     "execution_count": 15,
     "metadata": {},
     "output_type": "execute_result"
    }
   ],
   "source": [
    "model.predict(target_instance.to_numpy_array().reshape(1, -1))"
   ],
   "metadata": {
    "collapsed": false,
    "ExecuteTime": {
     "end_time": "2024-02-20T21:11:53.920979200Z",
     "start_time": "2024-02-20T21:11:53.903652100Z"
    }
   },
   "execution_count": 15
  },
  {
   "cell_type": "code",
   "outputs": [],
   "source": [],
   "metadata": {
    "collapsed": false
   }
  }
 ],
 "metadata": {
  "kernelspec": {
   "display_name": "trustce",
   "language": "python",
   "name": "python3"
  },
  "language_info": {
   "codemirror_mode": {
    "name": "ipython",
    "version": 3
   },
   "file_extension": ".py",
   "mimetype": "text/x-python",
   "name": "python",
   "nbconvert_exporter": "python",
   "pygments_lexer": "ipython3",
   "version": "3.12.1"
  }
 },
 "nbformat": 4,
 "nbformat_minor": 2
}
